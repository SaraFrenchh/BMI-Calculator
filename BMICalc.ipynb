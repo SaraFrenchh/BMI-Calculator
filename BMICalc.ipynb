{
 "cells": [
  {
   "cell_type": "code",
   "execution_count": 1,
   "id": "7a2794e4-05e6-4e4b-89bb-d889782e5730",
   "metadata": {},
   "outputs": [
    {
     "name": "stdin",
     "output_type": "stream",
     "text": [
      "Enter your name please,  Kim\n",
      "Enter you weight in pounds:  100\n",
      "Enter you height in inches:  52\n"
     ]
    },
    {
     "name": "stdout",
     "output_type": "stream",
     "text": [
      "3.698224852071006\n"
     ]
    }
   ],
   "source": [
    "name = input(\"Enter your name please, \")\n",
    "\n",
    "weight = int(input(\"Enter you weight in pounds: \"))\n",
    "\n",
    "height = int(input(\"Enter you height in inches: \"))\n",
    "\n",
    "BMI = (weight * 100) / (height * height)\n",
    "\n",
    "\n",
    "print(BMI)\n"
   ]
  },
  {
   "cell_type": "code",
   "execution_count": null,
   "id": "af7a750f-6b86-4ea8-93d2-b27e265a98a4",
   "metadata": {},
   "outputs": [],
   "source": []
  },
  {
   "cell_type": "code",
   "execution_count": 2,
   "id": "979ed6fd-1b2a-476a-8cd7-95a7dc36cdbc",
   "metadata": {},
   "outputs": [
    {
     "name": "stdout",
     "output_type": "stream",
     "text": [
      "Kim, You are underweight-minimal\n"
     ]
    }
   ],
   "source": [
    "if BMI > 0:\n",
    "    if(BMI <18.5):\n",
    "        print(name + \", You are underweight-minimal\")\n",
    "    elif(BMI <=24.9):\n",
    "        print(name + \", You are normal weight-minimal\")\n",
    "    elif(BMI <29.9):\n",
    "        print(name + \", You are overweight-increased\")\n",
    "    else:\n",
    "         print(name + \", You are severly overweight\")\n",
    "        \n",
    "\n",
    "\n",
    "\n",
    "\n",
    "\n",
    "\n",
    "        "
   ]
  },
  {
   "cell_type": "code",
   "execution_count": null,
   "id": "2c5232c0-9776-4340-a587-da45a06e6c12",
   "metadata": {},
   "outputs": [],
   "source": []
  },
  {
   "cell_type": "code",
   "execution_count": null,
   "id": "8026f929-6f67-4ed0-a356-e5ebf832aa72",
   "metadata": {},
   "outputs": [],
   "source": []
  },
  {
   "cell_type": "code",
   "execution_count": null,
   "id": "27a3ba49-d942-4846-8dac-e318b0a67a36",
   "metadata": {},
   "outputs": [],
   "source": []
  },
  {
   "cell_type": "code",
   "execution_count": null,
   "id": "e72c8ad5-42d4-4664-9b34-4a488d9cbb60",
   "metadata": {},
   "outputs": [],
   "source": []
  },
  {
   "cell_type": "code",
   "execution_count": null,
   "id": "dde6a7ba-87a7-429d-9c26-e931eea4aea3",
   "metadata": {},
   "outputs": [],
   "source": []
  },
  {
   "cell_type": "code",
   "execution_count": null,
   "id": "ed2c2273-e1db-4d4c-9e14-cb75c03c4448",
   "metadata": {},
   "outputs": [],
   "source": []
  },
  {
   "cell_type": "code",
   "execution_count": null,
   "id": "c070c306-8cf3-45b4-a12a-bcf57f5e0125",
   "metadata": {},
   "outputs": [],
   "source": []
  },
  {
   "cell_type": "code",
   "execution_count": null,
   "id": "bb0663c5-da5b-4d6c-9f54-d65a6d369e28",
   "metadata": {},
   "outputs": [],
   "source": []
  },
  {
   "cell_type": "code",
   "execution_count": null,
   "id": "f80ca706-fe36-471a-b418-9d9e1253c314",
   "metadata": {},
   "outputs": [],
   "source": []
  },
  {
   "cell_type": "code",
   "execution_count": null,
   "id": "e28b924e-cd37-40bf-b8e1-de8adca4e7f9",
   "metadata": {},
   "outputs": [],
   "source": []
  },
  {
   "cell_type": "code",
   "execution_count": null,
   "id": "32b7db53-53a2-4859-a51f-f49c405e2c30",
   "metadata": {},
   "outputs": [],
   "source": []
  },
  {
   "cell_type": "code",
   "execution_count": null,
   "id": "36e176c1-75a4-42d9-81ee-79e5a048be93",
   "metadata": {},
   "outputs": [],
   "source": []
  },
  {
   "cell_type": "code",
   "execution_count": null,
   "id": "1bb1a351-cab6-4bc0-b175-edce0c827b3a",
   "metadata": {},
   "outputs": [],
   "source": []
  },
  {
   "cell_type": "code",
   "execution_count": null,
   "id": "58be1bed-d1ef-4609-a050-732a3c77164c",
   "metadata": {},
   "outputs": [],
   "source": []
  },
  {
   "cell_type": "code",
   "execution_count": null,
   "id": "b941ccb2-c906-4dfe-907b-184d96e96067",
   "metadata": {},
   "outputs": [],
   "source": []
  }
 ],
 "metadata": {
  "kernelspec": {
   "display_name": "Python 3 (ipykernel)",
   "language": "python",
   "name": "python3"
  },
  "language_info": {
   "codemirror_mode": {
    "name": "ipython",
    "version": 3
   },
   "file_extension": ".py",
   "mimetype": "text/x-python",
   "name": "python",
   "nbconvert_exporter": "python",
   "pygments_lexer": "ipython3",
   "version": "3.11.5"
  }
 },
 "nbformat": 4,
 "nbformat_minor": 5
}
